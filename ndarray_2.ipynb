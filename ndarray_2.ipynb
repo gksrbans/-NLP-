{
  "nbformat": 4,
  "nbformat_minor": 0,
  "metadata": {
    "colab": {
      "name": "ndarray-2.ipynb",
      "provenance": [],
      "collapsed_sections": [],
      "authorship_tag": "ABX9TyOk53rPraOcECvuzTkNvkwm",
      "include_colab_link": true
    },
    "kernelspec": {
      "name": "python3",
      "display_name": "Python 3"
    },
    "language_info": {
      "name": "python"
    }
  },
  "cells": [
    {
      "cell_type": "markdown",
      "metadata": {
        "id": "view-in-github",
        "colab_type": "text"
      },
      "source": [
        "<a href=\"https://colab.research.google.com/github/gksrbans/-NLP-/blob/main/ndarray_2.ipynb\" target=\"_parent\"><img src=\"https://colab.research.google.com/assets/colab-badge.svg\" alt=\"Open In Colab\"/></a>"
      ]
    },
    {
      "cell_type": "markdown",
      "source": [
        "ndarray를 편리하게 생성하는 방법 - arange, zero, ones"
      ],
      "metadata": {
        "id": "Ad-P-JECNyhz"
      }
    },
    {
      "cell_type": "code",
      "source": [
        "import numpy as np"
      ],
      "metadata": {
        "id": "eofHFAPwOVxz"
      },
      "execution_count": 28,
      "outputs": []
    },
    {
      "cell_type": "code",
      "source": [
        "array1 = np.arange(10)\n",
        "print(array1)"
      ],
      "metadata": {
        "colab": {
          "base_uri": "https://localhost:8080/"
        },
        "id": "LEznPc-aOYVT",
        "outputId": "ec3f71b0-b06e-4d60-abdf-5357f2c78f7a"
      },
      "execution_count": 29,
      "outputs": [
        {
          "output_type": "stream",
          "name": "stdout",
          "text": [
            "[0 1 2 3 4 5 6 7 8 9]\n"
          ]
        }
      ]
    },
    {
      "cell_type": "code",
      "source": [
        "zero_array = np.zeros((3,2),dtype='int32')\n",
        "print(zero_array)\n",
        "print(zero_array.dtype, zero_array.shape)\n",
        "\n",
        "one_array = np.ones((3,2))\n",
        "print(one_array)\n",
        "print(one_array.dtype, one_array.shape)"
      ],
      "metadata": {
        "colab": {
          "base_uri": "https://localhost:8080/"
        },
        "id": "j7VodgcsO5kG",
        "outputId": "3e7a10b7-d0ec-42b9-fc87-064f45731a5f"
      },
      "execution_count": 30,
      "outputs": [
        {
          "output_type": "stream",
          "name": "stdout",
          "text": [
            "[[0 0]\n",
            " [0 0]\n",
            " [0 0]]\n",
            "int32 (3, 2)\n",
            "[[1. 1.]\n",
            " [1. 1.]\n",
            " [1. 1.]]\n",
            "float64 (3, 2)\n"
          ]
        }
      ]
    },
    {
      "cell_type": "code",
      "source": [
        "array1 = np.arange(10)\n",
        "print('array1:\\n', array1)\n",
        "\n",
        "array2 = array1.reshape(2,5)\n",
        "print('array2:\\n',array2)\n",
        "\n",
        "array3 = array1.reshape(5,2)\n",
        "print('array3:\\n',array3)"
      ],
      "metadata": {
        "colab": {
          "base_uri": "https://localhost:8080/"
        },
        "id": "yecuV-fLO7PI",
        "outputId": "64493243-7ff9-4c26-d992-10491c52f6b3"
      },
      "execution_count": 31,
      "outputs": [
        {
          "output_type": "stream",
          "name": "stdout",
          "text": [
            "array1:\n",
            " [0 1 2 3 4 5 6 7 8 9]\n",
            "array2:\n",
            " [[0 1 2 3 4]\n",
            " [5 6 7 8 9]]\n",
            "array3:\n",
            " [[0 1]\n",
            " [2 3]\n",
            " [4 5]\n",
            " [6 7]\n",
            " [8 9]]\n"
          ]
        }
      ]
    },
    {
      "cell_type": "code",
      "source": [
        "# 변환할 수 있는 shape구조를 입력하면 오류 발생.\n",
        "array1.reshape(4,3)"
      ],
      "metadata": {
        "colab": {
          "base_uri": "https://localhost:8080/",
          "height": 188
        },
        "id": "H-n3FUMmPD4Y",
        "outputId": "8630b5ff-8272-46a1-e600-95bc06365339"
      },
      "execution_count": 32,
      "outputs": [
        {
          "output_type": "error",
          "ename": "ValueError",
          "evalue": "ignored",
          "traceback": [
            "\u001b[0;31m---------------------------------------------------------------------------\u001b[0m",
            "\u001b[0;31mValueError\u001b[0m                                Traceback (most recent call last)",
            "\u001b[0;32m<ipython-input-32-e73ab7bc4dd8>\u001b[0m in \u001b[0;36m<module>\u001b[0;34m()\u001b[0m\n\u001b[1;32m      1\u001b[0m \u001b[0;31m# 변환할 수 있는 shape구조를 입력하면 오류 발생.\u001b[0m\u001b[0;34m\u001b[0m\u001b[0;34m\u001b[0m\u001b[0;34m\u001b[0m\u001b[0m\n\u001b[0;32m----> 2\u001b[0;31m \u001b[0marray1\u001b[0m\u001b[0;34m.\u001b[0m\u001b[0mreshape\u001b[0m\u001b[0;34m(\u001b[0m\u001b[0;36m4\u001b[0m\u001b[0;34m,\u001b[0m\u001b[0;36m3\u001b[0m\u001b[0;34m)\u001b[0m\u001b[0;34m\u001b[0m\u001b[0;34m\u001b[0m\u001b[0m\n\u001b[0m",
            "\u001b[0;31mValueError\u001b[0m: cannot reshape array of size 10 into shape (4,3)"
          ]
        }
      ]
    },
    {
      "cell_type": "code",
      "source": [
        "array1 = np.arange(10)\n",
        "print(array1)\n",
        "\n",
        "#컬럼 axis 크기는 5에 고정하고 로우 axis크기를 이에 맞춰 자동으로 변환. 즉 2x5 형태로 변환 \n",
        "array2 = array1.reshape(-1,5)\n",
        "print('array2 shape:',array2.shape)\n",
        "print('array2:\\n', array2)\n",
        "\n",
        "#로우 axis 크기는 5로 고정하고 컬럼 axis크기는 이에 맞춰 자동으로 변환. 즉 5x2 형태로 변환 \n",
        "array3 = array1.reshape(5,-1)\n",
        "print('array3 shape:',array3.shape)\n",
        "print('array3:\\n', array3)"
      ],
      "metadata": {
        "id": "392nIWJPPLRi"
      },
      "execution_count": null,
      "outputs": []
    },
    {
      "cell_type": "code",
      "source": [
        "# reshape()는 (-1, 1), (-1,)와 같은 형태로 주로 사용됨.\n",
        "# 1차원 ndarray를 2차원으로 또는 2차원 ndarray를 1차원으로 변환 시 사용. \n",
        "array1 = np.arange(5)\n",
        "\n",
        "# 1차원 ndarray를 2차원으로 변환하되, 컬럼axis크기는 반드시 1이여야 함. \n",
        "array2d_1 = array1.reshape(-1, 1)\n",
        "print(\"array2d_1 shape:\", array2d_1.shape)\n",
        "print(\"array2d_1:\\n\",array2d_1)\n",
        "\n",
        "# 2차원 ndarray를 1차원으로 변환 \n",
        "array1d = array2d_1.reshape(-1,)\n",
        "print(\"array1d shape:\", array1d.shape)\n",
        "print(\"array1d:\\n\",array1d)"
      ],
      "metadata": {
        "id": "-4YzoYMrRlKp"
      },
      "execution_count": null,
      "outputs": []
    },
    {
      "cell_type": "code",
      "source": [
        "# -1 을 적용하여도 변환이 불가능한 형태로의 변환을 요구할 경우 오류 발생.\n",
        "array1 = np.arange(10)\n",
        "array4 = array1.reshape(-1,4)"
      ],
      "metadata": {
        "id": "ocTOWVmgRuWy"
      },
      "execution_count": null,
      "outputs": []
    },
    {
      "cell_type": "code",
      "source": [
        "# -1 을 적용하여도 변환이 불가능한 형태로의 변환을 요구할 경우 오류 발생.\n",
        "array1 = np.arange(10)\n",
        "array4 = array1.reshape(-1,4)"
      ],
      "metadata": {
        "id": "XXScPkNrRxXZ"
      },
      "execution_count": null,
      "outputs": []
    },
    {
      "cell_type": "markdown",
      "source": [
        "ndarray의 데이터 세트 선택하기 – 인덱싱(Indexing)\n",
        "특정 위치의 단일값 추출"
      ],
      "metadata": {
        "id": "mg7qSTLAR0Uj"
      }
    },
    {
      "cell_type": "code",
      "source": [
        "# 1에서 부터 9 까지의 1차원 ndarray 생성 \n",
        "array1 = np.arange(start=1, stop=10)\n",
        "print('array1:',array1)\n",
        "\n",
        "# index는 0 부터 시작하므로 array1[2]는 3번째 index 위치의 데이터 값을 의미\n",
        "value = array1[2]\n",
        "print('value:',value)\n",
        "print(type(value))"
      ],
      "metadata": {
        "id": "UyMtME7iR4Lz"
      },
      "execution_count": null,
      "outputs": []
    },
    {
      "cell_type": "code",
      "source": [
        "print('맨 뒤의 값:',array1[-1], ', 맨 뒤에서 두번째 값:',array1[-2])"
      ],
      "metadata": {
        "id": "8qrr7QNTS7Ew"
      },
      "execution_count": null,
      "outputs": []
    },
    {
      "cell_type": "code",
      "source": [
        "array1 = np.arange(start=1, stop=10)\n",
        "print(array1)\n",
        "array3 = array1[0:3]\n",
        "print(array3)\n",
        "print(type(array3))"
      ],
      "metadata": {
        "id": "C3zme5RhS-yQ"
      },
      "execution_count": null,
      "outputs": []
    },
    {
      "cell_type": "code",
      "source": [
        "array1 = np.arange(start=1, stop=10)\n",
        "array4 = array1[:3]\n",
        "print(array4)\n",
        "\n",
        "array5 = array1[3:]\n",
        "print(array5)\n",
        "\n",
        "array6 = array1[:]\n",
        "print(array6)\n",
        "array7 = array1[::]\n",
        "print(array7)"
      ],
      "metadata": {
        "id": "7_fKltRWTTLB"
      },
      "execution_count": null,
      "outputs": []
    },
    {
      "cell_type": "code",
      "source": [
        "array1d = np.arange(start=1, stop=10)\n",
        "print(array1d)"
      ],
      "metadata": {
        "id": "LLkC_6M1TWNK"
      },
      "execution_count": null,
      "outputs": []
    },
    {
      "cell_type": "code",
      "source": [
        "print(array1d > 5)\n",
        "\n",
        "var1 = array1d > 5\n",
        "print(\"var1:\",var1)\n",
        "print(type(var1))"
      ],
      "metadata": {
        "id": "g3EYj2y0Tyro"
      },
      "execution_count": null,
      "outputs": []
    },
    {
      "cell_type": "code",
      "source": [
        "boolean_indexes = np.array([False, False, False, False, False,  True,  True,  True,  True])\n",
        "array3 = array1d[boolean_indexes]\n",
        "print('불린 인덱스로 필터링 결과 :', array3)\n"
      ],
      "metadata": {
        "id": "NF8iD5uUT0oG"
      },
      "execution_count": null,
      "outputs": []
    },
    {
      "cell_type": "markdown",
      "source": [
        "행렬의 정렬 – sort( )와 argsort( )\n",
        "행렬 정렬"
      ],
      "metadata": {
        "id": "h9n27i0QYIT3"
      }
    },
    {
      "cell_type": "code",
      "source": [
        "org_array = np.array([ 3, 1, 9, 5]) \n",
        "print('원본 행렬:', org_array)\n",
        "\n",
        "# np.sort( )로 정렬 \n",
        "sort_array1 = np.sort(org_array)         \n",
        "print ('np.sort( ) 호출 후 반환된 정렬 행렬:', sort_array1) \n",
        "print('np.sort( ) 호출 후 원본 행렬:', org_array)\n",
        "\n",
        "# ndarray.sort( )로 정렬\n",
        "sort_array2 = org_array.sort()\n",
        "org_array.sort()\n",
        "print('org_array.sort( ) 호출 후 반환된 행렬:', sort_array2)\n",
        "print('org_array.sort( ) 호출 후 원본 행렬:', org_array)"
      ],
      "metadata": {
        "id": "LlOeAFFnLbZG"
      },
      "execution_count": null,
      "outputs": []
    },
    {
      "cell_type": "code",
      "source": [
        "array2d = np.array([[8, 12], \n",
        "                   [7, 1 ]])\n",
        "\n",
        "sort_array2d_axis0 = np.sort(array2d, axis=0)\n",
        "print('로우 방향으로 정렬:\\n', sort_array2d_axis0)\n",
        "\n",
        "sort_array2d_axis1 = np.sort(array2d, axis=1)\n",
        "print('컬럼 방향으로 정렬:\\n', sort_array2d_axis1)"
      ],
      "metadata": {
        "id": "DLCMGTi6LhEG"
      },
      "execution_count": null,
      "outputs": []
    },
    {
      "cell_type": "markdown",
      "source": [
        "argsort"
      ],
      "metadata": {
        "id": "Zk9RO8qkXX22"
      }
    },
    {
      "cell_type": "code",
      "source": [
        "org_array = np.array([ 3, 1, 9, 5]) \n",
        "print(np.sort(org_array))\n",
        "\n",
        "sort_indices = np.argsort(org_array)\n",
        "print(type(sort_indices))\n",
        "print('행렬 정렬 시 원본 행렬의 인덱스:', sort_indices)"
      ],
      "metadata": {
        "id": "OGDNYhnwXdjP"
      },
      "execution_count": null,
      "outputs": []
    },
    {
      "cell_type": "code",
      "source": [
        "sort_array1_desc = np.sort(org_array)[::-1]\n",
        "print ('내림차순으로 정렬:', sort_array1_desc) "
      ],
      "metadata": {
        "id": "KHJeqkcWXex4"
      },
      "execution_count": null,
      "outputs": []
    },
    {
      "cell_type": "code",
      "source": [
        "name_array=np.array(['John', 'Mike', 'Sarah', 'Kate', 'Samuel'])\n",
        "score_array=np.array([78, 95, 84, 98, 88])\n",
        "\n",
        "# score_array의 정렬된 값에 해당하는 원본 행렬 위치 인덱스 반환하고 이를 이용하여 name_array에서 name값 추출.  \n",
        "sort_indices = np.argsort(score_array)\n",
        "print(\"sort indices:\", sort_indices)\n",
        "\n",
        "name_array_sort = name_array[sort_indices]\n",
        "\n",
        "score_array_sort = score_array[sort_indices]\n",
        "print(name_array_sort)\n",
        "print(score_array_sort)"
      ],
      "metadata": {
        "id": "j_TqFTz3ZNCv"
      },
      "execution_count": null,
      "outputs": []
    },
    {
      "cell_type": "code",
      "source": [
        "A = np.array([[1, 2, 3],\n",
        "              [4, 5, 6]])\n",
        "B = np.array([[7, 8],\n",
        "              [9, 10],\n",
        "              [11, 12]])\n",
        "\n",
        "dot_product = np.dot(A, B)\n",
        "print('행렬 내적 결과:\\n', dot_product)"
      ],
      "metadata": {
        "id": "mBB2Uw6CZP4d"
      },
      "execution_count": null,
      "outputs": []
    },
    {
      "cell_type": "code",
      "source": [
        "A = np.array([[1, 2],\n",
        "              [3, 4]])\n",
        "transpose_mat = np.transpose(A)\n",
        "print('A의 전치 행렬:\\n', transpose_mat)"
      ],
      "metadata": {
        "id": "jpby09lBZrGj"
      },
      "execution_count": null,
      "outputs": []
    },
    {
      "cell_type": "code",
      "source": [
        ""
      ],
      "metadata": {
        "id": "gPwZfUUWZslh"
      },
      "execution_count": null,
      "outputs": []
    }
  ]
}